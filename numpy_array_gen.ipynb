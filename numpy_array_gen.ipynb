{
 "cells": [
  {
   "cell_type": "code",
   "execution_count": 10,
   "metadata": {},
   "outputs": [
    {
     "name": "stdout",
     "output_type": "stream",
     "text": [
      "(122, 512, 512, 3)\n",
      "(1341, 512, 512, 3)\n"
     ]
    }
   ],
   "source": [
    "import glob\n",
    "import cv2\n",
    "import numpy as np\n",
    "# reading positive samples\n",
    "\n",
    "image_size = (512, 512)\n",
    "\n",
    "pos = []\n",
    "\n",
    "for f in glob.glob('positive/*'):\n",
    "    a = cv2.resize(cv2.imread(f), image_size)\n",
    "    pos.append(a)\n",
    "    \n",
    "pos = np.array(pos)\n",
    "\n",
    "print(pos.shape)\n",
    "\n",
    "# reading negative samples\n",
    "\n",
    "neg = []\n",
    "\n",
    "for f in glob.glob('negative/*'):\n",
    "    a = cv2.resize(cv2.imread(f), image_size)\n",
    "    neg.append(a)\n",
    "    \n",
    "neg = np.array(neg)\n",
    "\n",
    "print(neg.shape)"
   ]
  },
  {
   "cell_type": "code",
   "execution_count": 11,
   "metadata": {},
   "outputs": [],
   "source": [
    "# saving the numpy arrays\n",
    "\n",
    "np.save('positive.npy', pos) # covid-19 positive\n",
    "\n",
    "np.save('negative.npy', neg) # covid-19 positive"
   ]
  },
  {
   "cell_type": "code",
   "execution_count": null,
   "metadata": {},
   "outputs": [],
   "source": []
  }
 ],
 "metadata": {
  "kernelspec": {
   "display_name": "Python 3",
   "language": "python",
   "name": "python3"
  },
  "language_info": {
   "codemirror_mode": {
    "name": "ipython",
    "version": 3
   },
   "file_extension": ".py",
   "mimetype": "text/x-python",
   "name": "python",
   "nbconvert_exporter": "python",
   "pygments_lexer": "ipython3",
   "version": "3.6.8"
  }
 },
 "nbformat": 4,
 "nbformat_minor": 4
}
